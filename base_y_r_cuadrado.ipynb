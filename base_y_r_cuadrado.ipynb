{
 "cells": [
  {
   "cell_type": "code",
   "execution_count": 15,
   "id": "9a216684-7384-4078-b0e3-bf488a76ef2a",
   "metadata": {},
   "outputs": [],
   "source": [
    "import psycopg2\n",
    "import pandas as pd\n",
    "import csv\n",
    "import re\n",
    "from sklearn.metrics import r2_score"
   ]
  },
  {
   "cell_type": "code",
   "execution_count": 2,
   "id": "0b8ba888-a1dc-44b4-b233-6b0a7a52386a",
   "metadata": {},
   "outputs": [],
   "source": [
    "config = {\n",
    "    \"user\": \"postgres\",\n",
    "    \"password\": \"admin\",\n",
    "    \"database\": \"etl_db\"\n",
    "}\n",
    "\n",
    "def create_connection():\n",
    "    try:\n",
    "        cnx = psycopg2.connect(\n",
    "            host='localhost',\n",
    "            user=config[\"user\"],\n",
    "            password=config[\"password\"],\n",
    "            database=config[\"database\"]\n",
    "        )\n",
    "        print('Conexión exitosa!!')\n",
    "    except psycopg2.Error as e:\n",
    "        cnx = None\n",
    "        print('No se puede conectar:', e)\n",
    "    return cnx"
   ]
  },
  {
   "cell_type": "code",
   "execution_count": 5,
   "id": "d518ae9c-b6ba-41ec-b626-2150fdbea524",
   "metadata": {},
   "outputs": [
    {
     "name": "stdout",
     "output_type": "stream",
     "text": [
      "Conexión exitosa!!\n"
     ]
    },
    {
     "data": {
      "text/plain": [
       "<connection object at 0x000002694DF089D0; dsn: 'user=postgres password=xxx dbname=etl_db host=localhost', closed: 0>"
      ]
     },
     "execution_count": 5,
     "metadata": {},
     "output_type": "execute_result"
    }
   ],
   "source": [
    "create_connection()"
   ]
  },
  {
   "cell_type": "code",
   "execution_count": 7,
   "id": "74ec65c3-1a7e-412b-9e80-3e57ab5ed3e4",
   "metadata": {},
   "outputs": [
    {
     "name": "stdout",
     "output_type": "stream",
     "text": [
      "Conexión exitosa!!\n",
      "Tabla creada exitosamente.\n"
     ]
    }
   ],
   "source": [
    "creacion =\"\"\" CREATE TABLE modelo (\n",
    "    Country VARCHAR(255),\n",
    "    Happiness_Score FLOAT,\n",
    "    GDP FLOAT,\n",
    "    Family FLOAT,\n",
    "    Life_Expectancy FLOAT,\n",
    "    Freedom FLOAT,\n",
    "    Corruption FLOAT,\n",
    "    Generosity FLOAT,\n",
    "    prediccion FLOAT\n",
    "    \n",
    ");\n",
    "\"\"\"\n",
    "try:\n",
    "    conexion = create_connection()\n",
    "    cursor = conexion.cursor()\n",
    "    \n",
    "    cursor.execute(creacion)\n",
    "    conexion.commit()\n",
    "    print(\"Tabla creada exitosamente.\")\n",
    "    \n",
    "except psycopg2.Error as e:\n",
    "    print(\"Error al crear la tabla:\", e)\n",
    "    \n",
    "finally:\n",
    "    if conexion:\n",
    "        conexion.close()"
   ]
  },
  {
   "cell_type": "code",
   "execution_count": 27,
   "id": "e44c6ae5-8324-44d9-a6ef-2f8c32a64611",
   "metadata": {},
   "outputs": [
    {
     "name": "stdout",
     "output_type": "stream",
     "text": [
      "Conexión exitosa!!\n",
      "           country  happiness_score      gdp   family  life_expectancy  \\\n",
      "0      Switzerland            7.587  1.39651  1.34951          0.94143   \n",
      "1           Norway            7.522  1.45900  1.33095          0.88521   \n",
      "2      New Zealand            7.286  1.25018  1.31967          0.90837   \n",
      "3           Mexico            7.187  1.02054  0.91451          0.81444   \n",
      "4    United States            7.119  1.39451  1.24711          0.86179   \n",
      "..             ...              ...      ...      ...              ...   \n",
      "230        Lesotho            3.802  0.48900  1.16900          0.16800   \n",
      "231        Burundi            3.775  0.04600  0.44700          0.38000   \n",
      "232          Syria            3.462  0.61900  0.37800          0.44000   \n",
      "233       Tanzania            3.231  0.47600  0.88500          0.49900   \n",
      "234    Afghanistan            3.203  0.35000  0.51700          0.36100   \n",
      "\n",
      "     freedom  corruption  generosity  prediccion  \n",
      "0    0.66557     0.41978     0.29678    7.076974  \n",
      "1    0.66973     0.36503     0.34699    7.084015  \n",
      "2    0.63938     0.42922     0.47501    6.943640  \n",
      "3    0.48181     0.21312     0.14074    5.683346  \n",
      "4    0.54604     0.15890     0.40105    6.643317  \n",
      "..       ...         ...         ...         ...  \n",
      "230  0.35900     0.09300     0.10700    4.305847  \n",
      "231  0.22000     0.18000     0.17600    3.394278  \n",
      "232  0.01300     0.14100     0.33100    3.864359  \n",
      "233  0.41700     0.14700     0.27600    4.660205  \n",
      "234  0.00000     0.02500     0.15800    3.347720  \n",
      "\n",
      "[235 rows x 9 columns]\n",
      "el r cuadrado es 0.7675496735951374\n"
     ]
    }
   ],
   "source": [
    "\n",
    "def traer_tabla():\n",
    "    try:\n",
    "        conexion = create_connection()\n",
    "        cursor = conexion.cursor()\n",
    "        \n",
    "    \n",
    "        # Realiza una consulta SQL para obtener todos los datos de la tabla\n",
    "        query = \"SELECT * FROM modelo\"\n",
    "        cursor.execute(query)\n",
    "    \n",
    "        # Obtén todos los resultados como una lista de tuplas\n",
    "        data = cursor.fetchall()\n",
    "        #print(data)\n",
    "    \n",
    "        column_names = [desc[0] for desc in cursor.description]\n",
    "    \n",
    "        # Crea un DataFrame de pandas con los datos y nombres de columnas\n",
    "        df = pd.DataFrame(data, columns=column_names)\n",
    "        return df\n",
    "    except psycopg2.Error as e:\n",
    "        print(\"Error al crear la tabla:\", e)\n",
    "        \n",
    "    finally:\n",
    "        if conexion:\n",
    "            conexion.close()\n",
    "\n",
    "\n",
    "\n",
    "\n",
    "# Llama a la función para obtener los datos desde la base de datos\n",
    "base_datos= traer_tabla()\n",
    "base_datos=base_datos.drop_duplicates()\n",
    "\n",
    "print(base_datos)\n",
    "# Supongamos que 'y_true' son los valores reales y 'y_pred' son las predicciones\n",
    "real = base_datos['happiness_score']\n",
    "prediccion = base_datos['prediccion']\n",
    "\n",
    "r_squared = r2_score(real, prediccion)\n",
    "\n",
    "print(\"el r cuadrado es\", r_squared)"
   ]
  },
  {
   "cell_type": "code",
   "execution_count": null,
   "id": "8a0c17ab-b5a4-4bda-8c72-20e3c01fc835",
   "metadata": {},
   "outputs": [],
   "source": []
  }
 ],
 "metadata": {
  "kernelspec": {
   "display_name": "Python 3 (ipykernel)",
   "language": "python",
   "name": "python3"
  },
  "language_info": {
   "codemirror_mode": {
    "name": "ipython",
    "version": 3
   },
   "file_extension": ".py",
   "mimetype": "text/x-python",
   "name": "python",
   "nbconvert_exporter": "python",
   "pygments_lexer": "ipython3",
   "version": "3.8.17"
  }
 },
 "nbformat": 4,
 "nbformat_minor": 5
}
