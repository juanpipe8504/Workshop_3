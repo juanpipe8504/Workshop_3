{
 "cells": [
  {
   "cell_type": "code",
   "execution_count": 14,
   "id": "8df675bc-9620-4878-a805-0378b5c4a1a9",
   "metadata": {},
   "outputs": [
    {
     "ename": "SyntaxError",
     "evalue": "invalid syntax (341811935.py, line 1)",
     "output_type": "error",
     "traceback": [
      "\u001b[1;36m  Cell \u001b[1;32mIn[14], line 1\u001b[1;36m\u001b[0m\n\u001b[1;33m    pip install scikit-learn\u001b[0m\n\u001b[1;37m        ^\u001b[0m\n\u001b[1;31mSyntaxError\u001b[0m\u001b[1;31m:\u001b[0m invalid syntax\n"
     ]
    }
   ],
   "source": [
    "pip install scikit-learn\n",
    "\n"
   ]
  },
  {
   "cell_type": "code",
   "execution_count": 18,
   "id": "d009f4a5-cc40-4678-9faa-6dc7746e4a03",
   "metadata": {},
   "outputs": [],
   "source": [
    "import pandas as pd\n",
    "import numpy as np\n",
    "from sklearn.model_selection import train_test_split\n",
    "from sklearn.linear_model import LinearRegression \n",
    "from sklearn.metrics import r2_score\n",
    "import joblib\n",
    "import matplotlib.pyplot as plt\n",
    "import seaborn as sns"
   ]
  },
  {
   "cell_type": "code",
   "execution_count": 3,
   "id": "f41b110f-8f9c-4d4d-92a6-2a9000072880",
   "metadata": {},
   "outputs": [],
   "source": [
    "datos_2015=pd.read_csv('2015.csv')\n",
    "datos_2016=pd.read_csv('file:///C:/Users/Admin/Downloads/2016.csv')\n",
    "datos_2017=pd.read_csv('file:///C:/Users/Admin/Downloads/2017.csv')\n",
    "datos_2018=pd.read_csv('file:///C:/Users/Admin/Downloads/2018.csv')\n",
    "datos_2019=pd.read_csv('file:///C:/Users/Admin/Downloads/2019.csv')\n",
    "\n"
   ]
  },
  {
   "cell_type": "code",
   "execution_count": 4,
   "id": "f3aa56e4-2245-4254-b10c-06a07b5751f4",
   "metadata": {},
   "outputs": [],
   "source": [
    "datos_unidos=pd"
   ]
  },
  {
   "cell_type": "code",
   "execution_count": 5,
   "id": "8c187b5a-6fe3-486b-893c-f9c30bcef676",
   "metadata": {},
   "outputs": [],
   "source": [
    "import pandas as pd\n",
    "\n",
    "# Función de modificación para el año 2015\n",
    "def modificacion_2015(datos_2015):\n",
    "    nuevos_nombres = {\n",
    "        'Happiness Score': 'Happiness Score',\n",
    "        'Economy (GDP per Capita)': 'GDP',\n",
    "        'Family': 'Family',\n",
    "        'Health (Life Expectancy)': 'Life Expectancy',\n",
    "        'Freedom': 'Freedom',\n",
    "        'Trust (Government Corruption)': 'Corruption',\n",
    "        'Generosity': 'Generosity',\n",
    "    }\n",
    "    columnas_a_eliminar = ['Region', 'Happiness Rank','Standard Error','Dystopia Residual']\n",
    "    df_2015 = datos_2015.rename(columns=nuevos_nombres)\n",
    "    df_2015 = df_2015.drop(columns=columnas_a_eliminar, errors='ignore')\n",
    "    return df_2015\n",
    "\n",
    "# Función de modificación para el año 2016\n",
    "def modificacion_2016(datos_2016):\n",
    "    nuevos_nombres ={\n",
    "        'Happiness Score': 'Happiness Score',\n",
    "        'Economy (GDP per Capita)': 'GDP',\n",
    "        'Family': 'Family',\n",
    "        'Health (Life Expectancy)': 'Life Expectancy',\n",
    "        'Freedom': 'Freedom',\n",
    "        'Trust (Government Corruption)': 'Corruption',\n",
    "        'Generosity': 'Generosity',\n",
    "    }\n",
    "    columnas_a_eliminar = ['Region', 'Happiness Rank','Lower Confidence Interval','Upper Confidence Interval','Dystopia Residual']\n",
    "    df_2016 = datos_2016.rename(columns=nuevos_nombres)\n",
    "    df_2016 = df_2016.drop(columns=columnas_a_eliminar, errors='ignore')\n",
    "    return df_2016\n",
    "\n",
    "# Función de modificación para el año 2017\n",
    "def modificacion_2017(datos_2017):\n",
    "    nuevos_nombres ={\n",
    "        'Country':'Country',\n",
    "        'Happiness.Score': 'Happiness Score',\n",
    "        'Economy..GDP.per.Capita.': 'GDP',\n",
    "        'Family': 'Family',\n",
    "        'Health..Life.Expectancy.': 'Life Expectancy',\n",
    "        'Freedom': 'Freedom',\n",
    "        'Trust..Government.Corruption.': 'Corruption',\n",
    "        'Generosity': 'Generosity',\n",
    "    }\n",
    "    columnas_a_eliminar = ['Whisker.high','Happiness.Rank','Whisker.low','Dystopia.Residual']\n",
    "    df_2017 = datos_2017.rename(columns=nuevos_nombres)\n",
    "    df_2017 = df_2017.drop(columns=columnas_a_eliminar, errors='ignore')\n",
    "    return df_2017\n",
    "\n",
    "# Función de modificación para el año 2018\n",
    "def modificacion_2018(datos_2018):\n",
    "    nuevos_nombres ={\n",
    "        'Country or region':'Country',\n",
    "        'Score': 'Happiness Score',\n",
    "        'GDP per capita': 'GDP',\n",
    "        'Social support': 'Family',\n",
    "        'Healthy life expectancy': 'Life Expectancy',\n",
    "        'Freedom to make life choices': 'Freedom',\n",
    "        'Perceptions of corruption': 'Corruption',\n",
    "        'Generosity': 'Generosity',\n",
    "    }\n",
    "    columnas_a_eliminar = ['Overall rank']\n",
    "    df_2018 = datos_2018.rename(columns=nuevos_nombres)\n",
    "    df_2018 = df_2018.drop(columns=columnas_a_eliminar, errors='ignore')\n",
    "    return df_2018\n",
    "def modificacion_2019(datos_2019):\n",
    "    nuevos_nombres ={\n",
    "        'Country or region':'Country',\n",
    "        'Score': 'Happiness Score',\n",
    "        'GDP per capita': 'GDP',\n",
    "        'Social support': 'Family',\n",
    "        'Healthy life expectancy': 'Life Expectancy',\n",
    "        'Freedom to make life choices': 'Freedom',\n",
    "        'Perceptions of corruption': 'Corruption',\n",
    "        'Generosity': 'Generosity',\n",
    "    }\n",
    "    columnas_a_eliminar = ['Overall rank']\n",
    "    df_2019 = datos_2019.rename(columns=nuevos_nombres)\n",
    "    df_2019 = df_2019.drop(columns=columnas_a_eliminar, errors='ignore')\n",
    "\n",
    "    return df_2019\n",
    "\n",
    "# Suponiendo que tienes DataFrames correspondientes a cada año (datos_2015, datos_2016, datos_2017, datos_2018)\n",
    "# Aplicar las modificaciones a los DataFrames de cada año\n",
    "\n",
    "datos_final_2015 = modificacion_2015(datos_2015)\n",
    "datos_final_2016 = modificacion_2016(datos_2016)\n",
    "datos_final_2017 = modificacion_2017(datos_2017)\n",
    "datos_final_2018 = modificacion_2018(datos_2018)\n",
    "datos_final_2019 = modificacion_2019(datos_2019)"
   ]
  },
  {
   "cell_type": "code",
   "execution_count": 6,
   "id": "7329e4f9-7ff7-44df-b072-88956ca44c9e",
   "metadata": {},
   "outputs": [],
   "source": [
    "# Suponiendo que ya tienes los DataFrames modificados: datos_final_2015, datos_final_2016, datos_final_2017, datos_final_2018\n",
    "\n",
    "# Crear una lista de los DataFrames a unir\n",
    "dataframes = [datos_final_2015, datos_final_2016, datos_final_2017, datos_final_2018,datos_final_2019]\n",
    "\n",
    "# Concatenar los DataFrames en uno solo\n",
    "datos_completos = pd.concat(dataframes, ignore_index=True)\n",
    "\n",
    "datos_completos = datos_completos.dropna()\n",
    "\n",
    "\n",
    "# datos_completos ahora contiene la combinación de todos los DataFrames\n"
   ]
  },
  {
   "cell_type": "code",
   "execution_count": 10,
   "id": "1b004802-ef73-4281-9d67-cd4ae6f6b37e",
   "metadata": {},
   "outputs": [
    {
     "data": {
      "text/html": [
       "<div>\n",
       "<style scoped>\n",
       "    .dataframe tbody tr th:only-of-type {\n",
       "        vertical-align: middle;\n",
       "    }\n",
       "\n",
       "    .dataframe tbody tr th {\n",
       "        vertical-align: top;\n",
       "    }\n",
       "\n",
       "    .dataframe thead th {\n",
       "        text-align: right;\n",
       "    }\n",
       "</style>\n",
       "<table border=\"1\" class=\"dataframe\">\n",
       "  <thead>\n",
       "    <tr style=\"text-align: right;\">\n",
       "      <th></th>\n",
       "      <th>Country</th>\n",
       "      <th>Happiness Score</th>\n",
       "      <th>GDP</th>\n",
       "      <th>Family</th>\n",
       "      <th>Life Expectancy</th>\n",
       "      <th>Freedom</th>\n",
       "      <th>Corruption</th>\n",
       "      <th>Generosity</th>\n",
       "    </tr>\n",
       "  </thead>\n",
       "  <tbody>\n",
       "    <tr>\n",
       "      <th>0</th>\n",
       "      <td>Switzerland</td>\n",
       "      <td>7.587</td>\n",
       "      <td>1.39651</td>\n",
       "      <td>1.34951</td>\n",
       "      <td>0.94143</td>\n",
       "      <td>0.66557</td>\n",
       "      <td>0.41978</td>\n",
       "      <td>0.29678</td>\n",
       "    </tr>\n",
       "    <tr>\n",
       "      <th>1</th>\n",
       "      <td>Iceland</td>\n",
       "      <td>7.561</td>\n",
       "      <td>1.30232</td>\n",
       "      <td>1.40223</td>\n",
       "      <td>0.94784</td>\n",
       "      <td>0.62877</td>\n",
       "      <td>0.14145</td>\n",
       "      <td>0.43630</td>\n",
       "    </tr>\n",
       "    <tr>\n",
       "      <th>2</th>\n",
       "      <td>Denmark</td>\n",
       "      <td>7.527</td>\n",
       "      <td>1.32548</td>\n",
       "      <td>1.36058</td>\n",
       "      <td>0.87464</td>\n",
       "      <td>0.64938</td>\n",
       "      <td>0.48357</td>\n",
       "      <td>0.34139</td>\n",
       "    </tr>\n",
       "    <tr>\n",
       "      <th>3</th>\n",
       "      <td>Norway</td>\n",
       "      <td>7.522</td>\n",
       "      <td>1.45900</td>\n",
       "      <td>1.33095</td>\n",
       "      <td>0.88521</td>\n",
       "      <td>0.66973</td>\n",
       "      <td>0.36503</td>\n",
       "      <td>0.34699</td>\n",
       "    </tr>\n",
       "    <tr>\n",
       "      <th>4</th>\n",
       "      <td>Canada</td>\n",
       "      <td>7.427</td>\n",
       "      <td>1.32629</td>\n",
       "      <td>1.32261</td>\n",
       "      <td>0.90563</td>\n",
       "      <td>0.63297</td>\n",
       "      <td>0.32957</td>\n",
       "      <td>0.45811</td>\n",
       "    </tr>\n",
       "    <tr>\n",
       "      <th>...</th>\n",
       "      <td>...</td>\n",
       "      <td>...</td>\n",
       "      <td>...</td>\n",
       "      <td>...</td>\n",
       "      <td>...</td>\n",
       "      <td>...</td>\n",
       "      <td>...</td>\n",
       "      <td>...</td>\n",
       "    </tr>\n",
       "    <tr>\n",
       "      <th>777</th>\n",
       "      <td>Rwanda</td>\n",
       "      <td>3.334</td>\n",
       "      <td>0.35900</td>\n",
       "      <td>0.71100</td>\n",
       "      <td>0.61400</td>\n",
       "      <td>0.55500</td>\n",
       "      <td>0.41100</td>\n",
       "      <td>0.21700</td>\n",
       "    </tr>\n",
       "    <tr>\n",
       "      <th>778</th>\n",
       "      <td>Tanzania</td>\n",
       "      <td>3.231</td>\n",
       "      <td>0.47600</td>\n",
       "      <td>0.88500</td>\n",
       "      <td>0.49900</td>\n",
       "      <td>0.41700</td>\n",
       "      <td>0.14700</td>\n",
       "      <td>0.27600</td>\n",
       "    </tr>\n",
       "    <tr>\n",
       "      <th>779</th>\n",
       "      <td>Afghanistan</td>\n",
       "      <td>3.203</td>\n",
       "      <td>0.35000</td>\n",
       "      <td>0.51700</td>\n",
       "      <td>0.36100</td>\n",
       "      <td>0.00000</td>\n",
       "      <td>0.02500</td>\n",
       "      <td>0.15800</td>\n",
       "    </tr>\n",
       "    <tr>\n",
       "      <th>780</th>\n",
       "      <td>Central African Republic</td>\n",
       "      <td>3.083</td>\n",
       "      <td>0.02600</td>\n",
       "      <td>0.00000</td>\n",
       "      <td>0.10500</td>\n",
       "      <td>0.22500</td>\n",
       "      <td>0.03500</td>\n",
       "      <td>0.23500</td>\n",
       "    </tr>\n",
       "    <tr>\n",
       "      <th>781</th>\n",
       "      <td>South Sudan</td>\n",
       "      <td>2.853</td>\n",
       "      <td>0.30600</td>\n",
       "      <td>0.57500</td>\n",
       "      <td>0.29500</td>\n",
       "      <td>0.01000</td>\n",
       "      <td>0.09100</td>\n",
       "      <td>0.20200</td>\n",
       "    </tr>\n",
       "  </tbody>\n",
       "</table>\n",
       "<p>781 rows × 8 columns</p>\n",
       "</div>"
      ],
      "text/plain": [
       "                      Country  Happiness Score      GDP   Family  \\\n",
       "0                 Switzerland            7.587  1.39651  1.34951   \n",
       "1                     Iceland            7.561  1.30232  1.40223   \n",
       "2                     Denmark            7.527  1.32548  1.36058   \n",
       "3                      Norway            7.522  1.45900  1.33095   \n",
       "4                      Canada            7.427  1.32629  1.32261   \n",
       "..                        ...              ...      ...      ...   \n",
       "777                    Rwanda            3.334  0.35900  0.71100   \n",
       "778                  Tanzania            3.231  0.47600  0.88500   \n",
       "779               Afghanistan            3.203  0.35000  0.51700   \n",
       "780  Central African Republic            3.083  0.02600  0.00000   \n",
       "781               South Sudan            2.853  0.30600  0.57500   \n",
       "\n",
       "     Life Expectancy  Freedom  Corruption  Generosity  \n",
       "0            0.94143  0.66557     0.41978     0.29678  \n",
       "1            0.94784  0.62877     0.14145     0.43630  \n",
       "2            0.87464  0.64938     0.48357     0.34139  \n",
       "3            0.88521  0.66973     0.36503     0.34699  \n",
       "4            0.90563  0.63297     0.32957     0.45811  \n",
       "..               ...      ...         ...         ...  \n",
       "777          0.61400  0.55500     0.41100     0.21700  \n",
       "778          0.49900  0.41700     0.14700     0.27600  \n",
       "779          0.36100  0.00000     0.02500     0.15800  \n",
       "780          0.10500  0.22500     0.03500     0.23500  \n",
       "781          0.29500  0.01000     0.09100     0.20200  \n",
       "\n",
       "[781 rows x 8 columns]"
      ]
     },
     "execution_count": 10,
     "metadata": {},
     "output_type": "execute_result"
    }
   ],
   "source": [
    "datos_completos"
   ]
  },
  {
   "cell_type": "code",
   "execution_count": 22,
   "id": "8d07c6c1-7ea9-4ad9-b414-55b5a6166a4f",
   "metadata": {},
   "outputs": [
    {
     "data": {
      "text/plain": [
       "Country            False\n",
       "Happiness Score    False\n",
       "GDP                False\n",
       "Family             False\n",
       "Life Expectancy    False\n",
       "Freedom            False\n",
       "Corruption         False\n",
       "Generosity         False\n",
       "dtype: bool"
      ]
     },
     "execution_count": 22,
     "metadata": {},
     "output_type": "execute_result"
    }
   ],
   "source": [
    "datos_completos.isnull().any()"
   ]
  },
  {
   "cell_type": "code",
   "execution_count": 24,
   "id": "36ebda10-2b01-4db1-b973-6c3e3c65e3d2",
   "metadata": {},
   "outputs": [
    {
     "data": {
      "text/plain": [
       "(781, 8)"
      ]
     },
     "execution_count": 24,
     "metadata": {},
     "output_type": "execute_result"
    }
   ],
   "source": [
    "datos_completos.shape"
   ]
  },
  {
   "cell_type": "code",
   "execution_count": 20,
   "id": "12ee1187-0579-4ab5-923d-eb8c2cbf49a0",
   "metadata": {},
   "outputs": [
    {
     "data": {
      "image/png": "[encoded data removed]",
      "text/plain": [
       "<Figure size 640x480 with 2 Axes>"
      ]
     },
     "metadata": {},
     "output_type": "display_data"
    }
   ],
   "source": [
    "variables_numericas = datos_completos.select_dtypes(include='number')\n",
    "\n",
    "# Calcular la matriz de correlación\n",
    "matriz_correlacion = variables_numericas.corr()\n",
    "\n",
    "# Visualizar la matriz de correlación como un mapa de calor\n",
    "sns.heatmap(matriz_correlacion, annot=True, cmap='coolwarm', vmin=-1, vmax=1)\n",
    "plt.title('Matriz de Correlación')\n",
    "plt.show()\n",
    "\n",
    "\n",
    "\n"
   ]
  },
  {
   "cell_type": "code",
   "execution_count": 10,
   "id": "587fdf72-decd-4440-8867-97af25c623c7",
   "metadata": {},
   "outputs": [],
   "source": [
    "y=datos_completos['Happiness Score']\n",
    "X=datos_completos[['GDP','Family','Life Expectancy','Freedom','Corruption','Generosity']]\n",
    "X_train, X_test, y_train, y_test = train_test_split(X, y, test_size=0.3, random_state=1)\n"
   ]
  },
  {
   "cell_type": "code",
   "execution_count": 11,
   "id": "a0f8455a-0f36-46f3-a3bf-0186dfbf2b05",
   "metadata": {},
   "outputs": [
    {
     "data": {
      "text/html": [
       "<style>#sk-container-id-1 {color: black;}#sk-container-id-1 pre{padding: 0;}#sk-container-id-1 div.sk-toggleable {background-color: white;}#sk-container-id-1 label.sk-toggleable__label {cursor: pointer;display: block;width: 100%;margin-bottom: 0;padding: 0.3em;box-sizing: border-box;text-align: center;}#sk-container-id-1 label.sk-toggleable__label-arrow:before {content: \"▸\";float: left;margin-right: 0.25em;color: #696969;}#sk-container-id-1 label.sk-toggleable__label-arrow:hover:before {color: black;}#sk-container-id-1 div.sk-estimator:hover label.sk-toggleable__label-arrow:before {color: black;}#sk-container-id-1 div.sk-toggleable__content {max-height: 0;max-width: 0;overflow: hidden;text-align: left;background-color: #f0f8ff;}#sk-container-id-1 div.sk-toggleable__content pre {margin: 0.2em;color: black;border-radius: 0.25em;background-color: #f0f8ff;}#sk-container-id-1 input.sk-toggleable__control:checked~div.sk-toggleable__content {max-height: 200px;max-width: 100%;overflow: auto;}#sk-container-id-1 input.sk-toggleable__control:checked~label.sk-toggleable__label-arrow:before {content: \"▾\";}#sk-container-id-1 div.sk-estimator input.sk-toggleable__control:checked~label.sk-toggleable__label {background-color: #d4ebff;}#sk-container-id-1 div.sk-label input.sk-toggleable__control:checked~label.sk-toggleable__label {background-color: #d4ebff;}#sk-container-id-1 input.sk-hidden--visually {border: 0;clip: rect(1px 1px 1px 1px);clip: rect(1px, 1px, 1px, 1px);height: 1px;margin: -1px;overflow: hidden;padding: 0;position: absolute;width: 1px;}#sk-container-id-1 div.sk-estimator {font-family: monospace;background-color: #f0f8ff;border: 1px dotted black;border-radius: 0.25em;box-sizing: border-box;margin-bottom: 0.5em;}#sk-container-id-1 div.sk-estimator:hover {background-color: #d4ebff;}#sk-container-id-1 div.sk-parallel-item::after {content: \"\";width: 100%;border-bottom: 1px solid gray;flex-grow: 1;}#sk-container-id-1 div.sk-label:hover label.sk-toggleable__label {background-color: #d4ebff;}#sk-container-id-1 div.sk-serial::before {content: \"\";position: absolute;border-left: 1px solid gray;box-sizing: border-box;top: 0;bottom: 0;left: 50%;z-index: 0;}#sk-container-id-1 div.sk-serial {display: flex;flex-direction: column;align-items: center;background-color: white;padding-right: 0.2em;padding-left: 0.2em;position: relative;}#sk-container-id-1 div.sk-item {position: relative;z-index: 1;}#sk-container-id-1 div.sk-parallel {display: flex;align-items: stretch;justify-content: center;background-color: white;position: relative;}#sk-container-id-1 div.sk-item::before, #sk-container-id-1 div.sk-parallel-item::before {content: \"\";position: absolute;border-left: 1px solid gray;box-sizing: border-box;top: 0;bottom: 0;left: 50%;z-index: -1;}#sk-container-id-1 div.sk-parallel-item {display: flex;flex-direction: column;z-index: 1;position: relative;background-color: white;}#sk-container-id-1 div.sk-parallel-item:first-child::after {align-self: flex-end;width: 50%;}#sk-container-id-1 div.sk-parallel-item:last-child::after {align-self: flex-start;width: 50%;}#sk-container-id-1 div.sk-parallel-item:only-child::after {width: 0;}#sk-container-id-1 div.sk-dashed-wrapped {border: 1px dashed gray;margin: 0 0.4em 0.5em 0.4em;box-sizing: border-box;padding-bottom: 0.4em;background-color: white;}#sk-container-id-1 div.sk-label label {font-family: monospace;font-weight: bold;display: inline-block;line-height: 1.2em;}#sk-container-id-1 div.sk-label-container {text-align: center;}#sk-container-id-1 div.sk-container {/* jupyter's `normalize.less` sets `[hidden] { display: none; }` but bootstrap.min.css set `[hidden] { display: none !important; }` so we also need the `!important` here to be able to override the default hidden behavior on the sphinx rendered scikit-learn.org. See: https://github.com/scikit-learn/scikit-learn/issues/21755 */display: inline-block !important;position: relative;}#sk-container-id-1 div.sk-text-repr-fallback {display: none;}</style><div id=\"sk-container-id-1\" class=\"sk-top-container\"><div class=\"sk-text-repr-fallback\"><pre>LinearRegression()</pre><b>In a Jupyter environment, please rerun this cell to show the HTML representation or trust the notebook. <br />On GitHub, the HTML representation is unable to render, please try loading this page with nbviewer.org.</b></div><div class=\"sk-container\" hidden><div class=\"sk-item\"><div class=\"sk-estimator sk-toggleable\"><input class=\"sk-toggleable__control sk-hidden--visually\" id=\"sk-estimator-id-1\" type=\"checkbox\" checked><label for=\"sk-estimator-id-1\" class=\"sk-toggleable__label sk-toggleable__label-arrow\">LinearRegression</label><div class=\"sk-toggleable__content\"><pre>LinearRegression()</pre></div></div></div></div></div>"
      ],
      "text/plain": [
       "LinearRegression()"
      ]
     },
     "execution_count": 11,
     "metadata": {},
     "output_type": "execute_result"
    }
   ],
   "source": [
    "model = LinearRegression()\n",
    "\n",
    "# Ajustar el modelo a tus propios datos\n",
    "model.fit(X_train, y_train)"
   ]
  },
  {
   "cell_type": "code",
   "execution_count": 12,
   "id": "76dcf32e-e064-46c7-ae7e-e12dd92df330",
   "metadata": {},
   "outputs": [
    {
     "data": {
      "text/plain": [
       "array([6.86591873, 4.35254664, 4.64515585, 3.40992041, 5.77645372,\n",
       "       3.81929519, 3.0258357 , 5.51257035, 5.65887075, 5.80649538,\n",
       "       5.58232507, 4.98256965, 5.62702731, 3.65117767, 5.08063947,\n",
       "       6.74092857, 4.87680727, 6.40635434, 5.89017762, 7.09218932,\n",
       "       5.67661094, 4.50238899, 5.5010745 , 5.77781691, 5.30819046,\n",
       "       4.15683529, 4.64689899, 4.85529989, 3.89518977, 5.34675363,\n",
       "       6.87592145, 4.98868363, 5.86512665, 4.40421544, 5.13523646,\n",
       "       5.67192085, 5.49347322, 6.01794945, 5.44618433, 6.18851293,\n",
       "       4.63708654, 7.14654291, 4.66020536, 4.02016652, 7.20425822,\n",
       "       5.87355057, 3.8839231 , 6.94364036, 3.55726802, 5.04771454,\n",
       "       5.3246556 , 3.44268851, 4.23549065, 5.36551207, 3.67302749,\n",
       "       4.30584684, 5.78853891, 6.80664045, 5.10320753, 4.25362385,\n",
       "       6.00195115, 4.63310403, 4.51388524, 5.95299264, 3.86499631,\n",
       "       5.17392973, 7.04755497, 4.71087409, 6.48877598, 6.04758698,\n",
       "       4.86139055, 6.9695551 , 5.45683435, 5.31142866, 4.50566648,\n",
       "       4.16070752, 6.32406843, 6.95835015, 6.1573535 , 5.63246257,\n",
       "       5.85959005, 4.33149008, 6.2787083 , 4.85028108, 5.22502606,\n",
       "       4.93702892, 5.15707844, 6.51898033, 6.23899262, 3.36517263,\n",
       "       5.3374933 , 5.14149291, 7.03991562, 5.14386161, 6.32109115,\n",
       "       7.11061621, 3.90347786, 5.42332341, 4.22883924, 5.91601373,\n",
       "       5.01531918, 4.72123417, 3.61651356, 5.13959884, 5.12458805,\n",
       "       4.17100226, 6.15102336, 2.73222892, 6.8277262 , 5.1357534 ,\n",
       "       6.31384862, 7.13418411, 5.71139976, 3.63523609, 7.08401523,\n",
       "       5.61103997, 5.77498218, 5.59371991, 5.56004249, 6.17216261,\n",
       "       5.61188303, 6.41325976, 5.81767711, 4.93800437, 5.56869869,\n",
       "       7.00536273, 5.30444029, 2.75195868, 5.15973126, 4.25667169,\n",
       "       4.00041612, 4.11708048, 5.18608431, 4.44155581, 5.82575152,\n",
       "       6.50665438, 5.7524669 , 6.24946709, 4.36467738, 6.10245021,\n",
       "       5.12109251, 5.53456914, 5.76198461, 5.28087635, 4.27716199,\n",
       "       3.34771985, 6.02152356, 7.07697406, 4.10352605, 5.26261322,\n",
       "       6.11298736, 5.90200539, 4.6206804 , 6.43020674, 7.05670768,\n",
       "       5.71240144, 6.90033335, 4.01620221, 4.54631341, 5.7194926 ,\n",
       "       6.89257888, 6.1594435 , 6.38998679, 5.68334585, 5.3672847 ,\n",
       "       5.50833886, 6.48002719, 4.50912086, 5.28262909, 4.36219512,\n",
       "       4.02583347, 5.73742969, 6.13339596, 5.47325066, 4.63775444,\n",
       "       3.39427825, 6.77009527, 4.33153105, 5.76802867, 6.2234546 ,\n",
       "       5.58920928, 5.96392219, 7.15195356, 5.32528372, 5.99385758,\n",
       "       7.32300637, 4.78804248, 4.81772973, 4.97007461, 6.57107776,\n",
       "       3.97995145, 5.38603434, 3.87499628, 4.35093454, 5.63996214,\n",
       "       4.10107892, 4.17072623, 4.99163934, 5.69288059, 3.8195934 ,\n",
       "       5.8078289 , 5.97906443, 4.94570086, 3.66833758, 3.7760907 ,\n",
       "       3.86435852, 6.71687788, 5.46787742, 3.79155786, 6.6433167 ,\n",
       "       4.39349076, 3.43745366, 5.0700104 , 6.91674688, 5.26847436,\n",
       "       5.15789641, 4.62243142, 6.9266182 , 3.7415691 , 6.13818954,\n",
       "       5.76209162, 6.5488286 , 5.58270584, 4.91007716, 6.66764238,\n",
       "       5.73934283, 4.45850508, 7.12818559, 6.37323431, 5.91154651,\n",
       "       5.68495247, 4.91507707, 5.26369336, 4.44990159, 5.42009923])"
      ]
     },
     "execution_count": 12,
     "metadata": {},
     "output_type": "execute_result"
    }
   ],
   "source": [
    "y_predict=model.predict(X_test)\n",
    "y_predict"
   ]
  },
  {
   "cell_type": "code",
   "execution_count": 13,
   "id": "f87b900c-b430-4a60-81db-747ca532b20f",
   "metadata": {},
   "outputs": [
    {
     "data": {
      "text/plain": [
       "0.7675496735951374"
      ]
     },
     "execution_count": 13,
     "metadata": {},
     "output_type": "execute_result"
    }
   ],
   "source": [
    "r2 = r2_score(y_test, y_predict)\n",
    "r2"
   ]
  },
  {
   "cell_type": "code",
   "execution_count": 14,
   "id": "5ff72f44-24a9-4237-b259-1942890e1437",
   "metadata": {},
   "outputs": [],
   "source": [
    "modelo_exportado = \"model.pkl\"\n",
    "\n",
    "# Carga el modelo desde el archivo\n",
    "model = joblib.dump(model,modelo_exportado)"
   ]
  },
  {
   "cell_type": "code",
   "execution_count": 15,
   "id": "1769a9ee-d9d6-44a4-82db-a833863d2159",
   "metadata": {},
   "outputs": [
    {
     "data": {
      "text/plain": [
       "array([6.86591873, 4.35254664, 4.64515585, 3.40992041, 5.77645372,\n",
       "       3.81929519, 3.0258357 , 5.51257035, 5.65887075, 5.80649538,\n",
       "       5.58232507, 4.98256965, 5.62702731, 3.65117767, 5.08063947,\n",
       "       6.74092857, 4.87680727, 6.40635434, 5.89017762, 7.09218932,\n",
       "       5.67661094, 4.50238899, 5.5010745 , 5.77781691, 5.30819046,\n",
       "       4.15683529, 4.64689899, 4.85529989, 3.89518977, 5.34675363,\n",
       "       6.87592145, 4.98868363, 5.86512665, 4.40421544, 5.13523646,\n",
       "       5.67192085, 5.49347322, 6.01794945, 5.44618433, 6.18851293,\n",
       "       4.63708654, 7.14654291, 4.66020536, 4.02016652, 7.20425822,\n",
       "       5.87355057, 3.8839231 , 6.94364036, 3.55726802, 5.04771454,\n",
       "       5.3246556 , 3.44268851, 4.23549065, 5.36551207, 3.67302749,\n",
       "       4.30584684, 5.78853891, 6.80664045, 5.10320753, 4.25362385,\n",
       "       6.00195115, 4.63310403, 4.51388524, 5.95299264, 3.86499631,\n",
       "       5.17392973, 7.04755497, 4.71087409, 6.48877598, 6.04758698,\n",
       "       4.86139055, 6.9695551 , 5.45683435, 5.31142866, 4.50566648,\n",
       "       4.16070752, 6.32406843, 6.95835015, 6.1573535 , 5.63246257,\n",
       "       5.85959005, 4.33149008, 6.2787083 , 4.85028108, 5.22502606,\n",
       "       4.93702892, 5.15707844, 6.51898033, 6.23899262, 3.36517263,\n",
       "       5.3374933 , 5.14149291, 7.03991562, 5.14386161, 6.32109115,\n",
       "       7.11061621, 3.90347786, 5.42332341, 4.22883924, 5.91601373,\n",
       "       5.01531918, 4.72123417, 3.61651356, 5.13959884, 5.12458805,\n",
       "       4.17100226, 6.15102336, 2.73222892, 6.8277262 , 5.1357534 ,\n",
       "       6.31384862, 7.13418411, 5.71139976, 3.63523609, 7.08401523,\n",
       "       5.61103997, 5.77498218, 5.59371991, 5.56004249, 6.17216261,\n",
       "       5.61188303, 6.41325976, 5.81767711, 4.93800437, 5.56869869,\n",
       "       7.00536273, 5.30444029, 2.75195868, 5.15973126, 4.25667169,\n",
       "       4.00041612, 4.11708048, 5.18608431, 4.44155581, 5.82575152,\n",
       "       6.50665438, 5.7524669 , 6.24946709, 4.36467738, 6.10245021,\n",
       "       5.12109251, 5.53456914, 5.76198461, 5.28087635, 4.27716199,\n",
       "       3.34771985, 6.02152356, 7.07697406, 4.10352605, 5.26261322,\n",
       "       6.11298736, 5.90200539, 4.6206804 , 6.43020674, 7.05670768,\n",
       "       5.71240144, 6.90033335, 4.01620221, 4.54631341, 5.7194926 ,\n",
       "       6.89257888, 6.1594435 , 6.38998679, 5.68334585, 5.3672847 ,\n",
       "       5.50833886, 6.48002719, 4.50912086, 5.28262909, 4.36219512,\n",
       "       4.02583347, 5.73742969, 6.13339596, 5.47325066, 4.63775444,\n",
       "       3.39427825, 6.77009527, 4.33153105, 5.76802867, 6.2234546 ,\n",
       "       5.58920928, 5.96392219, 7.15195356, 5.32528372, 5.99385758,\n",
       "       7.32300637, 4.78804248, 4.81772973, 4.97007461, 6.57107776,\n",
       "       3.97995145, 5.38603434, 3.87499628, 4.35093454, 5.63996214,\n",
       "       4.10107892, 4.17072623, 4.99163934, 5.69288059, 3.8195934 ,\n",
       "       5.8078289 , 5.97906443, 4.94570086, 3.66833758, 3.7760907 ,\n",
       "       3.86435852, 6.71687788, 5.46787742, 3.79155786, 6.6433167 ,\n",
       "       4.39349076, 3.43745366, 5.0700104 , 6.91674688, 5.26847436,\n",
       "       5.15789641, 4.62243142, 6.9266182 , 3.7415691 , 6.13818954,\n",
       "       5.76209162, 6.5488286 , 5.58270584, 4.91007716, 6.66764238,\n",
       "       5.73934283, 4.45850508, 7.12818559, 6.37323431, 5.91154651,\n",
       "       5.68495247, 4.91507707, 5.26369336, 4.44990159, 5.42009923])"
      ]
     },
     "execution_count": 15,
     "metadata": {},
     "output_type": "execute_result"
    }
   ],
   "source": [
    "modelo_file = \"model.pkl\"\n",
    "model = joblib.load(modelo_file)\n",
    "\n",
    "y_predict=model.predict(X_test)\n",
    "y_predict"
   ]
  },
  {
   "cell_type": "code",
   "execution_count": 15,
   "id": "6756a024-e967-4e5c-8321-7eb89ffcde09",
   "metadata": {},
   "outputs": [
    {
     "name": "stdout",
     "output_type": "stream",
     "text": [
      "Requirement already satisfied: pandas in c:\\users\\admin\\anaconda4\\envs\\nombre_del_entorno\\lib\\site-packages (2.0.3)\n",
      "Requirement already satisfied: seaborn in c:\\users\\admin\\anaconda4\\envs\\nombre_del_entorno\\lib\\site-packages (0.13.0)\n",
      "Requirement already satisfied: matplotlib in c:\\users\\admin\\anaconda4\\envs\\nombre_del_entorno\\lib\\site-packages (3.7.2)\n",
      "Requirement already satisfied: python-dateutil>=2.8.2 in c:\\users\\admin\\anaconda4\\envs\\nombre_del_entorno\\lib\\site-packages (from pandas) (2.8.2)\n",
      "Requirement already satisfied: pytz>=2020.1 in c:\\users\\admin\\anaconda4\\envs\\nombre_del_entorno\\lib\\site-packages (from pandas) (2023.3)\n",
      "Requirement already satisfied: tzdata>=2022.1 in c:\\users\\admin\\anaconda4\\envs\\nombre_del_entorno\\lib\\site-packages (from pandas) (2023.3)\n",
      "Requirement already satisfied: numpy>=1.20.3 in c:\\users\\admin\\anaconda4\\envs\\nombre_del_entorno\\lib\\site-packages (from pandas) (1.24.4)\n",
      "Requirement already satisfied: contourpy>=1.0.1 in c:\\users\\admin\\anaconda4\\envs\\nombre_del_entorno\\lib\\site-packages (from matplotlib) (1.1.0)\n",
      "Requirement already satisfied: cycler>=0.10 in c:\\users\\admin\\anaconda4\\envs\\nombre_del_entorno\\lib\\site-packages (from matplotlib) (0.11.0)\n",
      "Requirement already satisfied: fonttools>=4.22.0 in c:\\users\\admin\\anaconda4\\envs\\nombre_del_entorno\\lib\\site-packages (from matplotlib) (4.42.1)\n",
      "Requirement already satisfied: kiwisolver>=1.0.1 in c:\\users\\admin\\anaconda4\\envs\\nombre_del_entorno\\lib\\site-packages (from matplotlib) (1.4.5)\n",
      "Requirement already satisfied: packaging>=20.0 in c:\\users\\admin\\anaconda4\\envs\\nombre_del_entorno\\lib\\site-packages (from matplotlib) (23.1)\n",
      "Requirement already satisfied: pillow>=6.2.0 in c:\\users\\admin\\anaconda4\\envs\\nombre_del_entorno\\lib\\site-packages (from matplotlib) (10.0.0)\n",
      "Requirement already satisfied: pyparsing<3.1,>=2.3.1 in c:\\users\\admin\\anaconda4\\envs\\nombre_del_entorno\\lib\\site-packages (from matplotlib) (3.0.9)\n",
      "Requirement already satisfied: importlib-resources>=3.2.0 in c:\\users\\admin\\anaconda4\\envs\\nombre_del_entorno\\lib\\site-packages (from matplotlib) (6.0.1)\n",
      "Requirement already satisfied: zipp>=3.1.0 in c:\\users\\admin\\anaconda4\\envs\\nombre_del_entorno\\lib\\site-packages (from importlib-resources>=3.2.0->matplotlib) (3.16.2)\n",
      "Requirement already satisfied: six>=1.5 in c:\\users\\admin\\anaconda4\\envs\\nombre_del_entorno\\lib\\site-packages (from python-dateutil>=2.8.2->pandas) (1.16.0)\n",
      "Note: you may need to restart the kernel to use updated packages.\n"
     ]
    }
   ],
   "source": [
    "pip install pandas seaborn matplotlib\n"
   ]
  },
  {
   "cell_type": "code",
   "execution_count": null,
   "id": "c7ee1ec4-c8a1-4940-ace7-b63edbbcab03",
   "metadata": {},
   "outputs": [],
   "source": []
  }
 ],
 "metadata": {
  "kernelspec": {
   "display_name": "Python 3 (ipykernel)",
   "language": "python",
   "name": "python3"
  },
  "language_info": {
   "codemirror_mode": {
    "name": "ipython",
    "version": 3
   },
   "file_extension": ".py",
   "mimetype": "text/x-python",
   "name": "python",
   "nbconvert_exporter": "python",
   "pygments_lexer": "ipython3",
   "version": "3.8.17"
  }
 },
 "nbformat": 4,
 "nbformat_minor": 5
}
